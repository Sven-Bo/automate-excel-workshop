{
 "cells": [
  {
   "cell_type": "markdown",
   "metadata": {},
   "source": [
    "# 🚀 How to automate Excel using Python"
   ]
  },
  {
   "cell_type": "markdown",
   "metadata": {},
   "source": [
    "![header](0-Images/header.png \"header\")"
   ]
  },
  {
   "cell_type": "markdown",
   "metadata": {},
   "source": [
    "> In this workshop, I will be sharing my favorite ways to **automate Microsoft Excel using Python**. In particular, we will be using the open-source tools: `Pandas`, `xlwings` & `plotly`. After this workshop, you will be able to create a custom Python script that allows you to combine excel files & create charts out of them."
   ]
  },
  {
   "cell_type": "markdown",
   "metadata": {},
   "source": [
    "### 👉 Find this Jupyter Notebook & all examples files here: https://pythonandvba.com/workshop"
   ]
  },
  {
   "cell_type": "markdown",
   "metadata": {},
   "source": [
    "***"
   ]
  },
  {
   "cell_type": "markdown",
   "metadata": {
    "heading_collapsed": true
   },
   "source": [
    "# 1. About Me 👱‍♂️"
   ]
  },
  {
   "cell_type": "markdown",
   "metadata": {
    "hidden": true
   },
   "source": [
    "Hi 👋, I'm Sven - A data analyst from Germany, currently living in Tokyo <br>\n",
    "\n",
    "👱‍♂️ 32 years old <br>\n",
    "📊 I have been working as a business/data analyst at a German engineering & technology company for over 7 years <br>\n",
    "📚 Le Wagon Tokyo alumni - 9 weeks full-time Data Science Boot Camp [2020] <br>\n",
    "📝 Languages: `Python` and `VBA` <br><br>\n",
    "📺 I have a small YouTube channel: https://youtube.com/c/codingisfun <br>\n",
    "On my YouTube channel I am creating tutorials for people who:\n",
    "- … are looking for a way to leverage the power of Python in their day-to-day work.\n",
    "- … are struggling with repetitive tasks in Excel and are looking for a way to use Python and VBA.\n",
    "- … want to learn Data Analysis & Data Science to perform meaningful and impactful analyses.\n",
    "- … are working with Excel and found themselves thinking - \"there has to be a better way.\"\n",
    "\n",
    "---\n",
    "🛑 **DISCLAIMER** 🛑\n",
    "> **I am not a software developer**, but I am passionate about finding ways to use `Python` and `VBA` to be more efficient and effective in business settings"
   ]
  },
  {
   "cell_type": "markdown",
   "metadata": {
    "heading_collapsed": true
   },
   "source": [
    "# 2. Before we start ... 🤓"
   ]
  },
  {
   "cell_type": "markdown",
   "metadata": {
    "heading_collapsed": true,
    "hidden": true
   },
   "source": [
    "## Prerequisite:"
   ]
  },
  {
   "cell_type": "markdown",
   "metadata": {
    "hidden": true
   },
   "source": [
    "> Basic understanding of Python and Excel"
   ]
  },
  {
   "cell_type": "markdown",
   "metadata": {
    "heading_collapsed": true,
    "hidden": true
   },
   "source": [
    "## Why bother using Microsoft Excel? Use ____ (a database/jupyter notebook/pandas/...)!"
   ]
  },
  {
   "cell_type": "markdown",
   "metadata": {
    "hidden": true
   },
   "source": [
    "- **Over 750 million** MS Excel users worldwide (source: https://www.investintech.com/resources/blog/archives/5718-experts-predict-the-future-of-excel-in-business-intelligence.html)\n",
    "- MS Excel is an **integral part of most business organizations** across the world (even after three decades!)\n",
    "- **Multipurpose**: generating memos, track sales trends, handling other business data, ...\n",
    "- MS Excel has a **simple interface**, that allows users to easily understand it and also perform basic activities\n",
    "- There is a **huge amount of help** out there for Excel users\n",
    "- Big systems are great for delivering clean data – Excel allows you to do something with it (can be an issue for automation!)"
   ]
  },
  {
   "cell_type": "markdown",
   "metadata": {
    "heading_collapsed": true,
    "hidden": true
   },
   "source": [
    "#### **What is the most used feature in any business intelligence solution?**"
   ]
  },
  {
   "cell_type": "markdown",
   "metadata": {
    "hidden": true
   },
   "source": [
    "> **It is the `Export to Excel` button.**"
   ]
  },
  {
   "cell_type": "markdown",
   "metadata": {
    "heading_collapsed": true
   },
   "source": [
    "# 3. Excel Automation Examples 🤖"
   ]
  },
  {
   "cell_type": "markdown",
   "metadata": {
    "heading_collapsed": true,
    "hidden": true
   },
   "source": [
    "## Install Dependencies"
   ]
  },
  {
   "cell_type": "code",
   "execution_count": null,
   "metadata": {
    "hidden": true
   },
   "outputs": [],
   "source": [
    "#!pip install pandas --quiet\n",
    "#!pip install openpyxl --quiet\n",
    "#!pip install plotly-express --quiet\n",
    "#!pip install xlwings --quiet"
   ]
  },
  {
   "cell_type": "markdown",
   "metadata": {
    "heading_collapsed": true,
    "hidden": true
   },
   "source": [
    "## 3.1 Split Column Values"
   ]
  },
  {
   "cell_type": "markdown",
   "metadata": {
    "heading_collapsed": true,
    "hidden": true
   },
   "source": [
    "### 📢 Purpose:<br><br> Separate Excel Data into Workbooks by Column Values"
   ]
  },
  {
   "cell_type": "code",
   "execution_count": null,
   "metadata": {
    "hidden": true
   },
   "outputs": [],
   "source": [
    "from pathlib import Path\n",
    "import pandas as pd  # pip install pandas"
   ]
  },
  {
   "cell_type": "code",
   "execution_count": null,
   "metadata": {
    "hidden": true
   },
   "outputs": [],
   "source": [
    "# Locate examples files & create output directory\n",
    "EXCEL_FILE_PATH = Path.cwd() / \"1-Split-Colmun-Values\"/ \"Financial_Data.xlsx\"\n",
    "OUTPUT_DIR = Path.cwd() / \"1-Split-Colmun-Values\"/ \"OUTPUT\"\n",
    "\n",
    "if not OUTPUT_DIR.exists():\n",
    "    OUTPUT_DIR.mkdir()"
   ]
  },
  {
   "cell_type": "code",
   "execution_count": null,
   "metadata": {
    "hidden": true
   },
   "outputs": [],
   "source": [
    "# Load Dataframe\n",
    "df = pd.read_excel(EXCEL_FILE_PATH)\n",
    "df.head()"
   ]
  },
  {
   "cell_type": "code",
   "execution_count": null,
   "metadata": {
    "hidden": true
   },
   "outputs": [],
   "source": [
    "# Get unique values from any particular column\n",
    "column_name = \"Country\"\n",
    "unique_values = df[column_name].unique()\n",
    "unique_values"
   ]
  },
  {
   "cell_type": "code",
   "execution_count": null,
   "metadata": {
    "hidden": true
   },
   "outputs": [],
   "source": [
    "# Query/Filter dataframe, example:\n",
    "df.query(\"Country=='Japan'\")"
   ]
  },
  {
   "cell_type": "code",
   "execution_count": null,
   "metadata": {
    "hidden": true
   },
   "outputs": [],
   "source": [
    "# Query/Filter the dataframe and export the filtered dataframe as an Excel file\n",
    "for unique_value in unique_values:\n",
    "    df_output = df.query(f\"{column_name} == @unique_value\")\n",
    "    df_output = df_output.query(\"Year==2021\")\n",
    "    output_path = OUTPUT_DIR / f\"{unique_value}_2021.xlsx\"\n",
    "    df_output.to_excel(output_path, sheet_name=unique_value, index=False)"
   ]
  },
  {
   "cell_type": "markdown",
   "metadata": {
    "heading_collapsed": true,
    "hidden": true
   },
   "source": [
    "### 🚨 Some Remarks"
   ]
  },
  {
   "cell_type": "markdown",
   "metadata": {
    "hidden": true
   },
   "source": [
    "#### No.1"
   ]
  },
  {
   "cell_type": "markdown",
   "metadata": {
    "hidden": true
   },
   "source": [
    "Pandas uses `openpyxl` to manipulate workbooks\n",
    "> One of the main advantage is, that `OpenPyXL` does not require Excel. That makes it so fast!\n",
    "\n",
    "As funny as it sounds, but OpenPyXL cannot use a running instance of Excel.\n",
    "In fact, Excel files are actually a zipped collection of **XML files**. You can easily explore and edit the complete structure of your Excel workbook. All you have to do: Rename the .xlsx file to .zip"
   ]
  },
  {
   "cell_type": "markdown",
   "metadata": {
    "heading_collapsed": true,
    "hidden": true
   },
   "source": [
    "#### No.2"
   ]
  },
  {
   "cell_type": "markdown",
   "metadata": {
    "hidden": true
   },
   "source": [
    "`OpenPyXL` (&`Pandas`) will not save/remember the formatting of the respective worksheet (colors, font styling, conditional formatting, ..) <br>\n",
    "\n",
    "This might be not a big issue when dealing with large amount of data. Yet, it can be a disadvantage if you want to create 'pretty' Excel reports/workbooks"
   ]
  },
  {
   "cell_type": "markdown",
   "metadata": {
    "heading_collapsed": true,
    "hidden": true
   },
   "source": [
    "#### No.3"
   ]
  },
  {
   "cell_type": "markdown",
   "metadata": {
    "hidden": true
   },
   "source": [
    "This was a simplified example. In real-life, the dataset might look way messier"
   ]
  },
  {
   "cell_type": "markdown",
   "metadata": {
    "heading_collapsed": true,
    "hidden": true
   },
   "source": [
    "## 3.2 Merge Excel Files (Simple)"
   ]
  },
  {
   "cell_type": "markdown",
   "metadata": {
    "heading_collapsed": true,
    "hidden": true
   },
   "source": [
    "### 📢 Purpose: <br><br> Merge multiple Excel files, perform calculations & export an interactive chart"
   ]
  },
  {
   "cell_type": "code",
   "execution_count": null,
   "metadata": {
    "hidden": true
   },
   "outputs": [],
   "source": [
    "from pathlib import Path\n",
    "import pandas as pd  # pip install pandas\n",
    "import plotly.express as px  # pip install plotly-express"
   ]
  },
  {
   "cell_type": "code",
   "execution_count": null,
   "metadata": {
    "hidden": true
   },
   "outputs": [],
   "source": [
    "# Locate examples files\n",
    "INPUT_DIR = Path.cwd() / \"2-Merge-Excel-Files-Simple\" / \"INPUT\"\n",
    "OUTPUT_DIR = Path.cwd() / \"2-Merge-Excel-Files-Simple\""
   ]
  },
  {
   "cell_type": "code",
   "execution_count": null,
   "metadata": {
    "hidden": true
   },
   "outputs": [],
   "source": [
    "# Create empty dataframe, iterate over input directory, append all excel files to empty dataframe\n",
    "df = pd.DataFrame()\n",
    "\n",
    "# If you want to iterate over all folders including subfolders, use: \n",
    "# for file in INPUT_DIR.rglob(\"*\"):\n",
    "\n",
    "for file in INPUT_DIR.iterdir():\n",
    "    if file.suffix == \".xlsx\":\n",
    "        df = df.append(pd.read_excel(file), ignore_index=True)\n",
    "    \n",
    "df['Country'].unique()"
   ]
  },
  {
   "cell_type": "code",
   "execution_count": null,
   "metadata": {
    "hidden": true
   },
   "outputs": [],
   "source": [
    "df.head()"
   ]
  },
  {
   "cell_type": "code",
   "execution_count": null,
   "metadata": {
    "hidden": true
   },
   "outputs": [],
   "source": [
    "df = df.groupby(by=\"Country\").sum()[[\" Sales\", \"Profit\"]]\n",
    "df"
   ]
  },
  {
   "cell_type": "code",
   "execution_count": null,
   "metadata": {
    "hidden": true
   },
   "outputs": [],
   "source": [
    "df[\"Profit Margin %\"] = (df[\"Profit\"] / df[\" Sales\"]) * 100\n",
    "df"
   ]
  },
  {
   "cell_type": "code",
   "execution_count": null,
   "metadata": {
    "hidden": true
   },
   "outputs": [],
   "source": [
    "# Plot Profit situation & export grouped dataframe to Excel\n",
    "fig = px.bar(\n",
    "    df,\n",
    "    x=df.index,\n",
    "    y=\" Sales\",\n",
    "    color=\"Profit Margin %\",\n",
    "    color_continuous_scale=[\"red\", \"yellow\", \"green\"],\n",
    "    template=\"plotly_white\",\n",
    "    title=\"<b>Profit Analysis</b>\",\n",
    ")\n",
    "fig.write_html(str(OUTPUT_DIR / \"profit_analysis.html\"))\n",
    "df.to_excel(OUTPUT_DIR / \"summary.xlsx\")\n",
    "fig"
   ]
  },
  {
   "cell_type": "markdown",
   "metadata": {
    "heading_collapsed": true,
    "hidden": true
   },
   "source": [
    "### 🚨 Some Remarks"
   ]
  },
  {
   "cell_type": "markdown",
   "metadata": {
    "hidden": true
   },
   "source": [
    "- Making use of the different plotting libraries, e.g. interactive visualizations using Plotly\n",
    "- **Simplified Example** | In real-life, more often than not, datasets are not so well-structured"
   ]
  },
  {
   "cell_type": "markdown",
   "metadata": {
    "heading_collapsed": true,
    "hidden": true
   },
   "source": [
    "## 3.3 Merge Excel Files (Real Life Example)"
   ]
  },
  {
   "cell_type": "markdown",
   "metadata": {
    "heading_collapsed": true,
    "hidden": true
   },
   "source": [
    "### 📢 Purpose: <br><br>Merge multiple Excel files, perform calculations & insert (Excel) charts [keep excel formatting & formulas]"
   ]
  },
  {
   "cell_type": "code",
   "execution_count": null,
   "metadata": {
    "hidden": true
   },
   "outputs": [],
   "source": [
    "from pathlib import Path\n",
    "import pandas as pd  # pip install pandas\n",
    "import xlwings as xw  # pip install xlwings"
   ]
  },
  {
   "cell_type": "code",
   "execution_count": null,
   "metadata": {
    "hidden": true
   },
   "outputs": [],
   "source": [
    "# Locate examples files\n",
    "INPUT_DIR = Path.cwd() / \"3-Merge-Excel-Files-Real-Life\" / \"INPUT\"\n",
    "OUTPUT_DIR = Path.cwd() / \"3-Merge-Excel-Files-Real-Life\""
   ]
  },
  {
   "cell_type": "code",
   "execution_count": null,
   "metadata": {
    "hidden": true
   },
   "outputs": [],
   "source": [
    "# Create an empty workbook. This wb will be our final output\n",
    "summary_wb = xw.Book()\n",
    "summary_sht = summary_wb.sheets[0]\n",
    "summary_sht.name = \"Summary\""
   ]
  },
  {
   "cell_type": "code",
   "execution_count": null,
   "metadata": {
    "hidden": true
   },
   "outputs": [],
   "source": [
    "# Iterate over each file in directory. Copy cell range & paste it into summary workbook (keep formatting & formuals)\n",
    "for file in INPUT_DIR.iterdir():\n",
    "    if file.suffix == \".xlsx\":\n",
    "        wb = xw.Book(file)\n",
    "        wb.app.display_alerts = False\n",
    "        #wb.app.visible = False\n",
    "        sht = wb.sheets(\"Overview\")\n",
    "        values = sht.range(\"B5\").expand().copy()\n",
    "        dest_last_row = summary_sht.range(\"A1\").expand().last_cell.row + 1\n",
    "        summary_sht.range(f\"A{dest_last_row}\").paste()\n",
    "        wb.close()"
   ]
  },
  {
   "cell_type": "code",
   "execution_count": null,
   "metadata": {
    "hidden": true
   },
   "outputs": [],
   "source": [
    "# Insert & style header of our summary workbook\n",
    "header = [\n",
    "    \"Segment\",\n",
    "    \"Country\",\n",
    "    \"Product\",\n",
    "    \"Discount Band\",\n",
    "    \"Units Sold\",\n",
    "    \"Sale Price\",\n",
    "    \"Gross Sales\",\n",
    "    \"Discounts\",\n",
    "    \"Sales\",\n",
    "    \"COGS\",\n",
    "    \"Profit\",\n",
    "]\n",
    "header_row = summary_sht.range(\"A1:K1\")\n",
    "header_row.value = header\n",
    "header_row.font.bold = True\n",
    "header_row.font.color = (255, 255, 255)\n",
    "header_row.color = (119, 136, 153)"
   ]
  },
  {
   "cell_type": "code",
   "execution_count": null,
   "metadata": {
    "hidden": true
   },
   "outputs": [],
   "source": [
    "# Use pandas to perform calculations, e.g. data aggregation\n",
    "df = summary_sht.range(\"A1\").options(pd.DataFrame, expand=\"table\").value\n",
    "data_by_country = df.groupby(by=\"Country\").sum()[[\"Sales\"]]\n",
    "data_by_country"
   ]
  },
  {
   "cell_type": "code",
   "execution_count": null,
   "metadata": {
    "hidden": true
   },
   "outputs": [],
   "source": [
    "# Insert grouped dataframe into our summary workbook\n",
    "summary_sht.range(\"M1\").value = data_by_country"
   ]
  },
  {
   "cell_type": "code",
   "execution_count": null,
   "metadata": {
    "hidden": true
   },
   "outputs": [],
   "source": [
    "# Insert EXCEL chart\n",
    "chart = summary_sht.charts.add(\n",
    "    left=summary_sht.range(\"M8\").left, \n",
    "    top=summary_sht.range(\"M8\").top,\n",
    "    width=400,\n",
    "    height=200,\n",
    ")\n",
    "chart.set_source_data(summary_sht.range(\"M1\").expand())\n",
    "chart.chart_type = \"bar_stacked\""
   ]
  },
  {
   "cell_type": "code",
   "execution_count": null,
   "metadata": {
    "hidden": true
   },
   "outputs": [],
   "source": [
    "# Insert PANDAS chart\n",
    "ax = data_by_country.sort_values(by=\"Sales\").plot(kind=\"barh\")\n",
    "fig = ax.get_figure()\n",
    "summary_sht.pictures.add(\n",
    "    fig,\n",
    "    name=\"Sales\",\n",
    "    update=True,\n",
    "    left=summary_sht.range(\"M23\").left,\n",
    "    top=summary_sht.range(\"M23\").top,\n",
    "    width=400,\n",
    "    height=200,\n",
    ")"
   ]
  },
  {
   "cell_type": "code",
   "execution_count": null,
   "metadata": {
    "hidden": true
   },
   "outputs": [],
   "source": [
    "# Clean up workbook, save workbook & quit Excel instance (if it is the only wb open)\n",
    "summary_sht.autofit()\n",
    "summary_wb.save(OUTPUT_DIR / \"summary.xlsx\")\n",
    "if len(summary_wb.app.books) == 1:\n",
    "    summary_wb.app.quit()\n",
    "else:\n",
    "    summary_wb.close()"
   ]
  },
  {
   "cell_type": "markdown",
   "metadata": {
    "heading_collapsed": true,
    "hidden": true
   },
   "source": [
    "### 🚨 Some Remarks"
   ]
  },
  {
   "cell_type": "markdown",
   "metadata": {
    "hidden": true
   },
   "source": [
    " **`xlwings` ..**\n",
    " - .. is just a smart wrapper around `pywin32` on Windows and `appscript` on Mac.\n",
    " - .. works nicely together with Pandas\n",
    " - .. (Excel) is not ideal when dealing with larger datasets.\n",
    " - .. has actually much more to offer. You can, for instance:\n",
    "     - write user-defined-functions (UDF) in Python\n",
    "     - run Python directly in Excel"
   ]
  },
  {
   "cell_type": "markdown",
   "metadata": {
    "hidden": true
   },
   "source": [
    "**There are more Python packages available to work with Excel files:** <br>\n",
    "openpyxl, xlsxwriter, pyxlsb, pylightxl, xlrd, xlwt, xlutils, PyXLL, .. <br>\n",
    "> Have a look here: https://www.python-excel.org/"
   ]
  },
  {
   "cell_type": "markdown",
   "metadata": {
    "heading_collapsed": true,
    "hidden": true
   },
   "source": [
    "## 3.4 Run Python in Excel [OPTIONAL]"
   ]
  },
  {
   "cell_type": "markdown",
   "metadata": {},
   "source": [
    "# 4. BONUS - A `free` gift for you!🎉"
   ]
  },
  {
   "cell_type": "markdown",
   "metadata": {
    "heading_collapsed": true
   },
   "source": [
    "## `Issue`: Creating Pandas Dataframe from 'messy' Excel file"
   ]
  },
  {
   "cell_type": "markdown",
   "metadata": {
    "hidden": true
   },
   "source": [
    "![MessyFile](0-Images/messy-example.jpg \"MessyFile\")"
   ]
  },
  {
   "cell_type": "markdown",
   "metadata": {
    "hidden": true
   },
   "source": [
    "**Using pd.read_excel() default parameters**"
   ]
  },
  {
   "cell_type": "code",
   "execution_count": null,
   "metadata": {
    "hidden": true
   },
   "outputs": [],
   "source": [
    "\n",
    "from pathlib import Path\n",
    "import pandas as pd\n",
    "\n",
    "excel_file = Path.cwd() / \"5-Bonus\" / \"Sales_Data.xlsx\"\n",
    "df = pd.read_excel(excel_file)\n",
    "df"
   ]
  },
  {
   "cell_type": "markdown",
   "metadata": {
    "hidden": true
   },
   "source": [
    "---"
   ]
  },
  {
   "cell_type": "markdown",
   "metadata": {
    "hidden": true
   },
   "source": [
    "**Specifying pd.read_excel() parameters**"
   ]
  },
  {
   "cell_type": "code",
   "execution_count": null,
   "metadata": {
    "hidden": true
   },
   "outputs": [],
   "source": [
    "df = pd.read_excel(\n",
    "    io=excel_file,\n",
    "    engine='openpyxl',\n",
    "    sheet_name='Overview',\n",
    "    skiprows=3,\n",
    "    usecols='B:L',\n",
    "    nrows=105,\n",
    ")\n",
    "df.head()"
   ]
  },
  {
   "cell_type": "markdown",
   "metadata": {
    "heading_collapsed": true
   },
   "source": [
    "## `Solution`: Free Excel Addin *My Tool Belt* 🚀"
   ]
  },
  {
   "cell_type": "markdown",
   "metadata": {
    "hidden": true
   },
   "source": [
    "![MyToolBelt](0-Images/rsz_mytoolbelt.png \"MyToolBelt\")"
   ]
  },
  {
   "cell_type": "markdown",
   "metadata": {
    "hidden": true
   },
   "source": [
    "The add-in creates the Python code to correctly read in the excel file and construct the dataframe. Instead of messing around with all of the available options in the read_excel method, it does it for you. Particularly handy when the tables are formatted and have merged cells.\n",
    " \n",
    "The add-in is written in `VBA`, and it will translate the cell range into the following pandas arguments:\n",
    "\n",
    "- io [File Name]\n",
    "- sheet_name\n",
    "- skiprows [Number of lines to skip (int) at the start of the file]\n",
    "- usecols [Excel column letters and column ranges (e.g. “A:E”)]\n",
    "- nrows [Number of rows to parse]\n",
    "\n",
    "### 📢 𝗗𝗢𝗪𝗡𝗟𝗢𝗔𝗗 𝗧𝗛𝗘 𝗙𝗥𝗘𝗘 𝗔𝗗𝗗-𝗜𝗡 𝗛𝗘𝗥𝗘:\n",
    "► https://pythonandvba.com/mytoolbelt\n",
    "\n",
    "### 📺 𝗙𝗨𝗟𝗟 𝗔𝗗𝗗-𝗜𝗡 𝗧𝗨𝗧𝗢𝗥𝗜𝗔𝗟:\n",
    "► https://youtu.be/PmJ9rkKGqrI"
   ]
  },
  {
   "cell_type": "markdown",
   "metadata": {
    "heading_collapsed": true
   },
   "source": [
    "# 5. My take on Excel automation in general & VBA vs. Python ⚡"
   ]
  },
  {
   "cell_type": "markdown",
   "metadata": {
    "heading_collapsed": true,
    "hidden": true
   },
   "source": [
    "## Should you try to automate all Excel files?"
   ]
  },
  {
   "cell_type": "markdown",
   "metadata": {
    "hidden": true
   },
   "source": [
    "![meme](0-Images/meme-automation1.jpg \"Meme\")"
   ]
  },
  {
   "cell_type": "markdown",
   "metadata": {
    "hidden": true
   },
   "source": [
    "---"
   ]
  },
  {
   "cell_type": "markdown",
   "metadata": {
    "heading_collapsed": true,
    "hidden": true
   },
   "source": [
    "### Use the right tool for the right job:\n",
    "### 👉 MS Excel, PowerQuery, PowerBI, Database, VBA, Python, ..."
   ]
  },
  {
   "cell_type": "markdown",
   "metadata": {
    "hidden": true
   },
   "source": [
    "![tool](0-Images/right-tool.jpeg \"Right Tool\")"
   ]
  },
  {
   "cell_type": "markdown",
   "metadata": {
    "heading_collapsed": true,
    "hidden": true
   },
   "source": [
    "## VBA or Python? Which one should I use?"
   ]
  },
  {
   "cell_type": "markdown",
   "metadata": {
    "hidden": true
   },
   "source": [
    "**Overall:** <br>\n",
    "> Computer programming languages are like **tools in a toolbox**. Different tools are designed to solve different problems.\n",
    "- Python is a General-Purpose Language\n",
    "- Visual Basic for Applications (VBA) is a simple, but powerful programming language to extend Office applications\n",
    "\n",
    "**VBA:**<br>\n",
    "  👍 Syntax is very intuitive. Example: Range(\"A1:C7\").ClearContents <br>\n",
    "  👍 No additional installation is required (huge advantage!). Built in `Visual Basic Editor (VBE)` <br>\n",
    "  👎 It is restricted to Office Applications <br>\n",
    "\n",
    "**Python:**<br>\n",
    "  👍 Has very powerful packages (for data analysis, machine-/deeplearning, web development, ..) <br>\n",
    "  👍 Python is one of the fastest-growing programming languages <br>\n",
    "  👎 Requires additional setup: Python(distribution), Editor (other than Word or Notepad 😅)<br>\n",
    " \n",
    "___\n",
    "Python might be more powerful than VBA but like I said earlier, what matters is what you intend to achieve. There is no need killing a mosquito with an atomic bomb when a simple spray can do the job.\n",
    "\n",
    "At times I find VBA-Excel more appropriate for a certain task and much more efficient than Python. But I also like the powerful Python packages."
   ]
  },
  {
   "cell_type": "markdown",
   "metadata": {
    "heading_collapsed": true
   },
   "source": [
    "# 6. Connect with me 💬"
   ]
  },
  {
   "cell_type": "markdown",
   "metadata": {
    "hidden": true
   },
   "source": [
    "> 📺 **YouTube:** https://youtube.com/c/codingisfun <br>\n",
    "> 🌎 **Website:** https://pythonandvba.com <br>\n",
    "> 📝 **GitHub:** https://github.com/Sven-Bo <br>\n",
    "> ⭐ **Discord:** https://pythonandvba.com/discord <br>\n",
    "> 💬 **EMail:** contact@pythonandvba.com <br>"
   ]
  }
 ],
 "metadata": {
  "kernelspec": {
   "display_name": "Python 3",
   "language": "python",
   "name": "python3"
  },
  "language_info": {
   "codemirror_mode": {
    "name": "ipython",
    "version": 3
   },
   "file_extension": ".py",
   "mimetype": "text/x-python",
   "name": "python",
   "nbconvert_exporter": "python",
   "pygments_lexer": "ipython3",
   "version": "3.8.5"
  }
 },
 "nbformat": 4,
 "nbformat_minor": 4
}
